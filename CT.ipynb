{
 "cells": [
  {
   "cell_type": "code",
   "execution_count": 1,
   "id": "62102e2c",
   "metadata": {},
   "outputs": [
    {
     "data": {
      "application/vnd.jupyter.widget-view+json": {
       "model_id": "6510be1b99e04346b47d4a524c9f792e",
       "version_major": 2,
       "version_minor": 0
      },
      "text/plain": [
       "IntSlider(value=30, max=89, min=1)"
      ]
     },
     "metadata": {},
     "output_type": "display_data"
    },
    {
     "data": {
      "application/vnd.jupyter.widget-view+json": {
       "model_id": "9cbef4fbf9d64092aaf95a7e228749dd",
       "version_major": 2,
       "version_minor": 0
      },
      "text/plain": [
       "IntSlider(value=2, max=10, min=1)"
      ]
     },
     "metadata": {},
     "output_type": "display_data"
    },
    {
     "data": {
      "application/vnd.jupyter.widget-view+json": {
       "model_id": "97450ae88aea4240bd4fce73b5cd6b56",
       "version_major": 2,
       "version_minor": 0
      },
      "text/plain": [
       "IntSlider(value=180, max=400, min=180)"
      ]
     },
     "metadata": {},
     "output_type": "display_data"
    },
    {
     "data": {
      "application/vnd.jupyter.widget-view+json": {
       "model_id": "d05a515dbb3b4fa384a7dd788746086e",
       "version_major": 2,
       "version_minor": 0
      },
      "text/plain": [
       "FileUpload(value={}, accept='image/*', description='Upload')"
      ]
     },
     "metadata": {},
     "output_type": "display_data"
    }
   ],
   "source": [
    "from IPython.display import display\n",
    "from ipywidgets.widgets import FileUpload, IntSlider\n",
    "\n",
    "controls = {\n",
    "    'span': IntSlider(value=30, min=1, max=89),\n",
    "    'increment': IntSlider(value=2, min=1, max=10),\n",
    "    'n': IntSlider(value=180, min=180, max=400),\n",
    "    'uploader': FileUpload(accept='image/*', multiple=False),\n",
    "}\n",
    "\n",
    "for widget in controls.values():\n",
    "    display(widget)"
   ]
  },
  {
   "cell_type": "code",
   "execution_count": 3,
   "id": "1418ba5e",
   "metadata": {},
   "outputs": [
    {
     "name": "stdout",
     "output_type": "stream",
     "text": [
      "/tmp/tmpu87d1ocf\n"
     ]
    }
   ],
   "source": [
    "import tempfile, os\n",
    "\n",
    "input_file = tempfile.NamedTemporaryFile(delete=False)\n",
    "uploaded_file = controls['uploader']\n",
    "\n",
    "input_file.write(controls['uploader'].data[0])\n",
    "\n",
    "input_file_path = os.path.realpath(input_file.name)\n",
    "\n",
    "print(input_file_path)"
   ]
  },
  {
   "cell_type": "code",
   "execution_count": 5,
   "id": "756fa662",
   "metadata": {
    "scrolled": false
   },
   "outputs": [
    {
     "name": "stderr",
     "output_type": "stream",
     "text": [
      "[2021-10-05 00:05:43,262] INFO    | 138 >> 180\n",
      "[2021-10-05 00:05:43,416] INFO    | 138 >> 178\n",
      "[2021-10-05 00:05:43,530] INFO    | 138 >> 176\n",
      "[2021-10-05 00:05:43,643] INFO    | 138 >> 174\n",
      "[2021-10-05 00:05:43,757] INFO    | 138 >> 172\n",
      "[2021-10-05 00:05:43,871] INFO    | 138 >> 170\n",
      "[2021-10-05 00:05:43,987] INFO    | 138 >> 168\n",
      "[2021-10-05 00:05:44,105] INFO    | 138 >> 166\n",
      "[2021-10-05 00:05:44,224] INFO    | 138 >> 164\n",
      "[2021-10-05 00:05:44,352] INFO    | 138 >> 162\n",
      "[2021-10-05 00:05:44,472] INFO    | 138 >> 160\n",
      "[2021-10-05 00:05:44,599] INFO    | 138 >> 158\n",
      "[2021-10-05 00:05:44,729] INFO    | 138 >> 156\n",
      "[2021-10-05 00:05:44,853] INFO    | 138 >> 154\n",
      "[2021-10-05 00:05:44,986] INFO    | 138 >> 152\n",
      "[2021-10-05 00:05:45,113] INFO    | 138 >> 150\n",
      "[2021-10-05 00:05:45,243] INFO    | 138 >> 148\n",
      "[2021-10-05 00:05:45,376] INFO    | 138 >> 146\n",
      "[2021-10-05 00:05:45,503] INFO    | 138 >> 144\n",
      "[2021-10-05 00:05:45,634] INFO    | 138 >> 142\n",
      "[2021-10-05 00:05:45,764] INFO    | 138 >> 140\n",
      "[2021-10-05 00:05:45,898] INFO    | 138 >> 138\n",
      "[2021-10-05 00:05:46,029] INFO    | 138 >> 136\n",
      "[2021-10-05 00:05:46,155] INFO    | 138 >> 134\n",
      "[2021-10-05 00:05:46,281] INFO    | 138 >> 132\n",
      "[2021-10-05 00:05:46,419] INFO    | 138 >> 130\n",
      "[2021-10-05 00:05:46,550] INFO    | 138 >> 128\n",
      "[2021-10-05 00:05:46,687] INFO    | 138 >> 126\n",
      "[2021-10-05 00:05:46,819] INFO    | 138 >> 124\n",
      "[2021-10-05 00:05:46,953] INFO    | 138 >> 122\n",
      "[2021-10-05 00:05:47,093] INFO    | 138 >> 120\n",
      "[2021-10-05 00:05:47,244] INFO    | 138 >> 118\n",
      "[2021-10-05 00:05:47,389] INFO    | 138 >> 116\n",
      "[2021-10-05 00:05:47,522] INFO    | 138 >> 114\n",
      "[2021-10-05 00:05:47,658] INFO    | 138 >> 112\n",
      "[2021-10-05 00:05:47,802] INFO    | 138 >> 110\n",
      "[2021-10-05 00:05:47,937] INFO    | 138 >> 108\n",
      "[2021-10-05 00:05:48,075] INFO    | 138 >> 106\n",
      "[2021-10-05 00:05:48,213] INFO    | 138 >> 104\n",
      "[2021-10-05 00:05:48,438] INFO    | 138 >> 102\n",
      "[2021-10-05 00:05:48,682] INFO    | 138 >> 100\n",
      "[2021-10-05 00:05:48,891] INFO    | 138 >> 98\n",
      "[2021-10-05 00:05:49,096] INFO    | 138 >> 96\n",
      "[2021-10-05 00:05:49,241] INFO    | 138 >> 94\n",
      "[2021-10-05 00:05:49,390] INFO    | 138 >> 92\n",
      "[2021-10-05 00:05:49,531] INFO    | 138 >> 90\n",
      "[2021-10-05 00:05:49,670] INFO    | 138 >> 88\n",
      "[2021-10-05 00:05:49,809] INFO    | 138 >> 86\n",
      "[2021-10-05 00:05:49,953] INFO    | 138 >> 84\n",
      "[2021-10-05 00:05:50,120] INFO    | 138 >> 82\n",
      "[2021-10-05 00:05:50,282] INFO    | 138 >> 80\n",
      "[2021-10-05 00:05:50,435] INFO    | 138 >> 78\n",
      "[2021-10-05 00:05:50,592] INFO    | 138 >> 76\n",
      "[2021-10-05 00:05:50,754] INFO    | 138 >> 74\n",
      "[2021-10-05 00:05:50,918] INFO    | 138 >> 72\n",
      "[2021-10-05 00:05:51,065] INFO    | 138 >> 70\n",
      "[2021-10-05 00:05:51,218] INFO    | 138 >> 68\n",
      "[2021-10-05 00:05:51,387] INFO    | 138 >> 66\n",
      "[2021-10-05 00:05:51,551] INFO    | 138 >> 64\n",
      "[2021-10-05 00:05:51,698] INFO    | 138 >> 62\n",
      "[2021-10-05 00:05:51,847] INFO    | 138 >> 60\n",
      "[2021-10-05 00:05:51,998] INFO    | 138 >> 58\n",
      "[2021-10-05 00:05:52,147] INFO    | 138 >> 56\n",
      "[2021-10-05 00:05:52,297] INFO    | 138 >> 54\n",
      "[2021-10-05 00:05:52,459] INFO    | 138 >> 52\n",
      "[2021-10-05 00:05:52,610] INFO    | 138 >> 50\n",
      "[2021-10-05 00:05:52,768] INFO    | 138 >> 48\n",
      "[2021-10-05 00:05:52,925] INFO    | 138 >> 46\n",
      "[2021-10-05 00:05:53,076] INFO    | 138 >> 44\n",
      "[2021-10-05 00:05:53,228] INFO    | 138 >> 42\n",
      "[2021-10-05 00:05:53,391] INFO    | 138 >> 40\n",
      "[2021-10-05 00:05:53,548] INFO    | 138 >> 38\n",
      "[2021-10-05 00:05:53,708] INFO    | 138 >> 36\n",
      "[2021-10-05 00:05:53,866] INFO    | 138 >> 34\n",
      "[2021-10-05 00:05:54,029] INFO    | 138 >> 32\n",
      "[2021-10-05 00:05:54,191] INFO    | 138 >> 30\n",
      "[2021-10-05 00:05:54,364] INFO    | 138 >> 28\n",
      "[2021-10-05 00:05:54,526] INFO    | 138 >> 26\n",
      "[2021-10-05 00:05:54,689] INFO    | 138 >> 24\n",
      "[2021-10-05 00:05:54,854] INFO    | 138 >> 22\n",
      "[2021-10-05 00:05:55,019] INFO    | 138 >> 20\n",
      "[2021-10-05 00:05:55,182] INFO    | 138 >> 18\n",
      "[2021-10-05 00:05:55,358] INFO    | 138 >> 16\n",
      "[2021-10-05 00:05:55,527] INFO    | 138 >> 14\n",
      "[2021-10-05 00:05:55,712] INFO    | 138 >> 12\n",
      "[2021-10-05 00:05:55,877] INFO    | 138 >> 10\n",
      "[2021-10-05 00:05:56,047] INFO    | 138 >> 8\n",
      "[2021-10-05 00:05:56,214] INFO    | 138 >> 6\n",
      "[2021-10-05 00:05:56,389] INFO    | 138 >> 4\n",
      "[2021-10-05 00:05:56,560] INFO    | 138 >> 2\n",
      "[2021-10-05 00:05:56,742] INFO    | 159 >> Processing scan 0\n",
      "[2021-10-05 00:05:56,749] INFO    | 159 >> Processing scan 1\n",
      "[2021-10-05 00:05:56,756] INFO    | 159 >> Processing scan 2\n",
      "[2021-10-05 00:05:56,763] INFO    | 159 >> Processing scan 3\n",
      "[2021-10-05 00:05:56,769] INFO    | 159 >> Processing scan 4\n",
      "[2021-10-05 00:05:56,775] INFO    | 159 >> Processing scan 5\n",
      "[2021-10-05 00:05:56,780] INFO    | 159 >> Processing scan 6\n",
      "[2021-10-05 00:05:56,786] INFO    | 159 >> Processing scan 7\n",
      "[2021-10-05 00:05:56,791] INFO    | 159 >> Processing scan 8\n",
      "[2021-10-05 00:05:56,796] INFO    | 159 >> Processing scan 9\n",
      "[2021-10-05 00:05:56,801] INFO    | 159 >> Processing scan 10\n",
      "[2021-10-05 00:05:56,807] INFO    | 159 >> Processing scan 11\n",
      "[2021-10-05 00:05:56,816] INFO    | 159 >> Processing scan 12\n",
      "[2021-10-05 00:05:56,822] INFO    | 159 >> Processing scan 13\n",
      "[2021-10-05 00:05:56,828] INFO    | 159 >> Processing scan 14\n",
      "[2021-10-05 00:05:56,837] INFO    | 159 >> Processing scan 15\n",
      "[2021-10-05 00:05:56,849] INFO    | 159 >> Processing scan 16\n",
      "[2021-10-05 00:05:56,858] INFO    | 159 >> Processing scan 17\n",
      "[2021-10-05 00:05:56,865] INFO    | 159 >> Processing scan 18\n",
      "[2021-10-05 00:05:56,872] INFO    | 159 >> Processing scan 19\n",
      "[2021-10-05 00:05:56,878] INFO    | 159 >> Processing scan 20\n",
      "[2021-10-05 00:05:56,884] INFO    | 159 >> Processing scan 21\n",
      "[2021-10-05 00:05:56,893] INFO    | 159 >> Processing scan 22\n",
      "[2021-10-05 00:05:56,900] INFO    | 159 >> Processing scan 23\n",
      "[2021-10-05 00:05:56,907] INFO    | 159 >> Processing scan 24\n",
      "[2021-10-05 00:05:56,913] INFO    | 159 >> Processing scan 25\n",
      "[2021-10-05 00:05:56,919] INFO    | 159 >> Processing scan 26\n",
      "[2021-10-05 00:05:56,925] INFO    | 159 >> Processing scan 27\n",
      "[2021-10-05 00:05:56,930] INFO    | 159 >> Processing scan 28\n",
      "[2021-10-05 00:05:56,936] INFO    | 159 >> Processing scan 29\n",
      "[2021-10-05 00:05:56,943] INFO    | 159 >> Processing scan 30\n",
      "[2021-10-05 00:05:56,950] INFO    | 159 >> Processing scan 31\n",
      "[2021-10-05 00:05:56,957] INFO    | 159 >> Processing scan 32\n",
      "[2021-10-05 00:05:56,963] INFO    | 159 >> Processing scan 33\n",
      "[2021-10-05 00:05:56,969] INFO    | 159 >> Processing scan 34\n",
      "[2021-10-05 00:05:56,978] INFO    | 159 >> Processing scan 35\n",
      "[2021-10-05 00:05:56,989] INFO    | 159 >> Processing scan 36\n",
      "[2021-10-05 00:05:56,997] INFO    | 159 >> Processing scan 37\n",
      "[2021-10-05 00:05:57,004] INFO    | 159 >> Processing scan 38\n",
      "[2021-10-05 00:05:57,011] INFO    | 159 >> Processing scan 39\n",
      "[2021-10-05 00:05:57,022] INFO    | 159 >> Processing scan 40\n",
      "[2021-10-05 00:05:57,035] INFO    | 159 >> Processing scan 41\n",
      "[2021-10-05 00:05:57,047] INFO    | 159 >> Processing scan 42\n",
      "[2021-10-05 00:05:57,056] INFO    | 159 >> Processing scan 43\n",
      "[2021-10-05 00:05:57,063] INFO    | 159 >> Processing scan 44\n",
      "[2021-10-05 00:05:57,070] INFO    | 159 >> Processing scan 45\n",
      "[2021-10-05 00:05:57,077] INFO    | 159 >> Processing scan 46\n",
      "[2021-10-05 00:05:57,083] INFO    | 159 >> Processing scan 47\n",
      "[2021-10-05 00:05:57,089] INFO    | 159 >> Processing scan 48\n",
      "[2021-10-05 00:05:57,096] INFO    | 159 >> Processing scan 49\n",
      "[2021-10-05 00:05:57,105] INFO    | 159 >> Processing scan 50\n",
      "[2021-10-05 00:05:57,111] INFO    | 159 >> Processing scan 51\n",
      "[2021-10-05 00:05:57,119] INFO    | 159 >> Processing scan 52\n",
      "[2021-10-05 00:05:57,131] INFO    | 159 >> Processing scan 53\n",
      "[2021-10-05 00:05:57,140] INFO    | 159 >> Processing scan 54\n",
      "[2021-10-05 00:05:57,148] INFO    | 159 >> Processing scan 55\n",
      "[2021-10-05 00:05:57,155] INFO    | 159 >> Processing scan 56\n",
      "[2021-10-05 00:05:57,162] INFO    | 159 >> Processing scan 57\n",
      "[2021-10-05 00:05:57,168] INFO    | 159 >> Processing scan 58\n",
      "[2021-10-05 00:05:57,176] INFO    | 159 >> Processing scan 59\n",
      "[2021-10-05 00:05:57,184] INFO    | 159 >> Processing scan 60\n",
      "[2021-10-05 00:05:57,190] INFO    | 159 >> Processing scan 61\n",
      "[2021-10-05 00:05:57,196] INFO    | 159 >> Processing scan 62\n",
      "[2021-10-05 00:05:57,202] INFO    | 159 >> Processing scan 63\n",
      "[2021-10-05 00:05:57,208] INFO    | 159 >> Processing scan 64\n"
     ]
    },
    {
     "name": "stderr",
     "output_type": "stream",
     "text": [
      "[2021-10-05 00:05:57,214] INFO    | 159 >> Processing scan 65\n",
      "[2021-10-05 00:05:57,219] INFO    | 159 >> Processing scan 66\n",
      "[2021-10-05 00:05:57,226] INFO    | 159 >> Processing scan 67\n",
      "[2021-10-05 00:05:57,233] INFO    | 159 >> Processing scan 68\n",
      "[2021-10-05 00:05:57,240] INFO    | 159 >> Processing scan 69\n",
      "[2021-10-05 00:05:57,246] INFO    | 159 >> Processing scan 70\n",
      "[2021-10-05 00:05:57,251] INFO    | 159 >> Processing scan 71\n",
      "[2021-10-05 00:05:57,257] INFO    | 159 >> Processing scan 72\n",
      "[2021-10-05 00:05:57,263] INFO    | 159 >> Processing scan 73\n",
      "[2021-10-05 00:05:57,269] INFO    | 159 >> Processing scan 74\n",
      "[2021-10-05 00:05:57,276] INFO    | 159 >> Processing scan 75\n",
      "[2021-10-05 00:05:57,284] INFO    | 159 >> Processing scan 76\n",
      "[2021-10-05 00:05:57,291] INFO    | 159 >> Processing scan 77\n",
      "[2021-10-05 00:05:57,297] INFO    | 159 >> Processing scan 78\n",
      "[2021-10-05 00:05:57,303] INFO    | 159 >> Processing scan 79\n",
      "[2021-10-05 00:05:57,311] INFO    | 159 >> Processing scan 80\n",
      "[2021-10-05 00:05:57,319] INFO    | 159 >> Processing scan 81\n",
      "[2021-10-05 00:05:57,326] INFO    | 159 >> Processing scan 82\n",
      "[2021-10-05 00:05:57,332] INFO    | 159 >> Processing scan 83\n",
      "[2021-10-05 00:05:57,339] INFO    | 159 >> Processing scan 84\n",
      "[2021-10-05 00:05:57,345] INFO    | 159 >> Processing scan 85\n",
      "[2021-10-05 00:05:57,350] INFO    | 159 >> Processing scan 86\n",
      "[2021-10-05 00:05:57,357] INFO    | 159 >> Processing scan 87\n",
      "[2021-10-05 00:05:57,365] INFO    | 159 >> Processing scan 88\n",
      "[2021-10-05 00:05:57,372] INFO    | 159 >> Processing scan 89\n"
     ]
    }
   ],
   "source": [
    "import logging\n",
    "from cool_ct import CTScan\n",
    "\n",
    "logging.basicConfig(format=\"[%(asctime)s] %(levelname)-8s| %(lineno)-3s >> %(message)s\")\n",
    "logging.getLogger('ct').setLevel(logging.INFO)\n",
    "\n",
    "c = CTScan(\n",
    "    image_path=input_file_path, \n",
    "    span=controls['span'].value, \n",
    "    angle_increment=controls['increment'].value, \n",
    "    n=controls['n'].value, \n",
    "    t=True,\n",
    "    dbg_image=False\n",
    ")\n",
    "\n",
    "c.make_sinogram(save=False)\n",
    "c.make_ct(save=False)"
   ]
  },
  {
   "cell_type": "code",
   "execution_count": 9,
   "id": "c6d91b9c",
   "metadata": {},
   "outputs": [
    {
     "data": {
      "application/vnd.jupyter.widget-view+json": {
       "model_id": "e92863cd0fc7446b9f19877dea7e7b77",
       "version_major": 2,
       "version_minor": 0
      },
      "text/plain": [
       "interactive(children=(IntSlider(value=44, description='n', max=89), Output()), _dom_classes=('widget-interact'…"
      ]
     },
     "metadata": {},
     "output_type": "display_data"
    }
   ],
   "source": [
    "from matplotlib import pyplot as plt\n",
    "from ipywidgets import interact\n",
    "\n",
    "@interact(n=(0,89))\n",
    "def show_scan(n):\n",
    "    plt.imshow(c.scan_images[n])"
   ]
  },
  {
   "cell_type": "code",
   "execution_count": null,
   "id": "edcfc6ac",
   "metadata": {},
   "outputs": [],
   "source": []
  }
 ],
 "metadata": {
  "kernelspec": {
   "display_name": "Python 3 (ipykernel)",
   "language": "python",
   "name": "python3"
  },
  "language_info": {
   "codemirror_mode": {
    "name": "ipython",
    "version": 3
   },
   "file_extension": ".py",
   "mimetype": "text/x-python",
   "name": "python",
   "nbconvert_exporter": "python",
   "pygments_lexer": "ipython3",
   "version": "3.9.7"
  }
 },
 "nbformat": 4,
 "nbformat_minor": 5
}
