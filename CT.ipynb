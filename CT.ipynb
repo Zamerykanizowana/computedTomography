{
 "cells": [
  {
   "cell_type": "code",
   "execution_count": null,
   "id": "62102e2c",
   "metadata": {},
   "outputs": [],
   "source": [
    "from IPython.display import display\n",
    "from ipywidgets.widgets import FileUpload, IntSlider\n",
    "\n",
    "controls = {\n",
    "    'span': IntSlider(value=30, min=1, max=89),\n",
    "    'increment': IntSlider(value=2, min=1, max=10),\n",
    "    'n': IntSlider(value=180, min=180, max=400),\n",
    "    'uploader': FileUpload(accept='image/*', multiple=False),\n",
    "}\n",
    "\n",
    "for widget in controls.values():\n",
    "    display(widget)"
   ]
  },
  {
   "cell_type": "code",
   "execution_count": null,
   "id": "1418ba5e",
   "metadata": {},
   "outputs": [],
   "source": [
    "import tempfile, os\n",
    "\n",
    "input_file = tempfile.NamedTemporaryFile(delete=False)\n",
    "uploaded_file = controls['uploader']\n",
    "\n",
    "input_file.write(controls['uploader'].data[0])\n",
    "\n",
    "input_file_path = os.path.realpath(input_file.name)\n",
    "\n",
    "print(input_file_path)"
   ]
  },
  {
   "cell_type": "code",
   "execution_count": null,
   "id": "756fa662",
   "metadata": {},
   "outputs": [],
   "source": [
    "import logging\n",
    "from cool_ct import CTScan\n",
    "\n",
    "logging.basicConfig(format=\"[%(asctime)s] %(levelname)-8s| %(lineno)-3s >> %(message)s\")\n",
    "logging.getLogger('ct').setLevel(logging.INFO)\n",
    "\n",
    "c = CTScan(\n",
    "    image_path=input_file_path, \n",
    "    span=controls['span'].value, \n",
    "    angle_increment=controls['increment'].value, \n",
    "    n=controls['n'].value, \n",
    "    t=True,\n",
    "    dbg_image=False\n",
    ")\n",
    "\n",
    "c.make_sinogram(save=False)\n",
    "c.make_ct(save=False)"
   ]
  },
  {
   "cell_type": "code",
   "execution_count": null,
   "id": "c6d91b9c",
   "metadata": {},
   "outputs": [],
   "source": [
    "from matplotlib import pyplot as plt\n",
    "from ipywidgets import interact\n",
    "\n",
    "@interact(n=(0,89))\n",
    "def show_scan(n):\n",
    "    plt.imshow(c.scan_images[n], cmap='gray', vmin=0, vmax=255)"
   ]
  },
  {
   "cell_type": "code",
   "execution_count": null,
   "id": "0262b307",
   "metadata": {},
   "outputs": [],
   "source": []
  }
 ],
 "metadata": {
  "kernelspec": {
   "display_name": "Python 3 (ipykernel)",
   "language": "python",
   "name": "python3"
  },
  "language_info": {
   "codemirror_mode": {
    "name": "ipython",
    "version": 3
   },
   "file_extension": ".py",
   "mimetype": "text/x-python",
   "name": "python",
   "nbconvert_exporter": "python",
   "pygments_lexer": "ipython3",
   "version": "3.9.7"
  }
 },
 "nbformat": 4,
 "nbformat_minor": 5
}
