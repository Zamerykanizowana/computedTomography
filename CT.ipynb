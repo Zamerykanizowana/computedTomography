{
 "cells": [
  {
   "cell_type": "code",
   "execution_count": 1,
   "id": "62102e2c",
   "metadata": {},
   "outputs": [
    {
     "data": {
      "application/vnd.jupyter.widget-view+json": {
       "model_id": "6510be1b99e04346b47d4a524c9f792e",
       "version_major": 2,
       "version_minor": 0
      },
      "text/plain": [
       "IntSlider(value=30, max=89, min=1)"
      ]
     },
     "metadata": {},
     "output_type": "display_data"
    },
    {
     "data": {
      "application/vnd.jupyter.widget-view+json": {
       "model_id": "9cbef4fbf9d64092aaf95a7e228749dd",
       "version_major": 2,
       "version_minor": 0
      },
      "text/plain": [
       "IntSlider(value=2, max=10, min=1)"
      ]
     },
     "metadata": {},
     "output_type": "display_data"
    },
    {
     "data": {
      "application/vnd.jupyter.widget-view+json": {
       "model_id": "97450ae88aea4240bd4fce73b5cd6b56",
       "version_major": 2,
       "version_minor": 0
      },
      "text/plain": [
       "IntSlider(value=180, max=400, min=180)"
      ]
     },
     "metadata": {},
     "output_type": "display_data"
    },
    {
     "data": {
      "application/vnd.jupyter.widget-view+json": {
       "model_id": "d05a515dbb3b4fa384a7dd788746086e",
       "version_major": 2,
       "version_minor": 0
      },
      "text/plain": [
       "FileUpload(value={}, accept='image/*', description='Upload')"
      ]
     },
     "metadata": {},
     "output_type": "display_data"
    }
   ],
   "source": [
    "from IPython.display import display\n",
    "from ipywidgets.widgets import FileUpload, IntSlider\n",
    "\n",
    "controls = {\n",
    "    'span': IntSlider(value=30, min=1, max=89),\n",
    "    'increment': IntSlider(value=2, min=1, max=10),\n",
    "    'n': IntSlider(value=180, min=180, max=400),\n",
    "    'uploader': FileUpload(accept='image/*', multiple=False),\n",
    "}\n",
    "\n",
    "for widget in controls.values():\n",
    "    display(widget)"
   ]
  },
  {
   "cell_type": "code",
   "execution_count": 3,
   "id": "1418ba5e",
   "metadata": {},
   "outputs": [
    {
     "name": "stdout",
     "output_type": "stream",
     "text": [
      "/tmp/tmpu87d1ocf\n"
     ]
    }
   ],
   "source": [
    "import tempfile, os\n",
    "\n",
    "input_file = tempfile.NamedTemporaryFile(delete=False)\n",
    "uploaded_file = controls['uploader']\n",
    "\n",
    "input_file.write(controls['uploader'].data[0])\n",
    "\n",
    "input_file_path = os.path.realpath(input_file.name)\n",
    "\n",
    "print(input_file_path)"
   ]
  },
  {
   "cell_type": "code",
   "execution_count": 10,
   "id": "756fa662",
   "metadata": {
    "scrolled": false
   },
   "outputs": [
    {
     "name": "stderr",
     "output_type": "stream",
     "text": [
      "[2021-10-05 00:18:20,685] INFO    | 138 >> 180\n",
      "[2021-10-05 00:18:20,987] INFO    | 138 >> 178\n",
      "[2021-10-05 00:18:21,199] INFO    | 138 >> 176\n",
      "[2021-10-05 00:18:21,421] INFO    | 138 >> 174\n",
      "[2021-10-05 00:18:21,640] INFO    | 138 >> 172\n",
      "[2021-10-05 00:18:21,854] INFO    | 138 >> 170\n",
      "[2021-10-05 00:18:22,073] INFO    | 138 >> 168\n",
      "[2021-10-05 00:18:22,293] INFO    | 138 >> 166\n",
      "[2021-10-05 00:18:22,503] INFO    | 138 >> 164\n",
      "[2021-10-05 00:18:22,717] INFO    | 138 >> 162\n",
      "[2021-10-05 00:18:22,940] INFO    | 138 >> 160\n",
      "[2021-10-05 00:18:23,150] INFO    | 138 >> 158\n",
      "[2021-10-05 00:18:23,373] INFO    | 138 >> 156\n",
      "[2021-10-05 00:18:23,593] INFO    | 138 >> 154\n",
      "[2021-10-05 00:18:23,813] INFO    | 138 >> 152\n",
      "[2021-10-05 00:18:24,028] INFO    | 138 >> 150\n",
      "[2021-10-05 00:18:24,257] INFO    | 138 >> 148\n",
      "[2021-10-05 00:18:24,480] INFO    | 138 >> 146\n",
      "[2021-10-05 00:18:24,693] INFO    | 138 >> 144\n",
      "[2021-10-05 00:18:24,919] INFO    | 138 >> 142\n",
      "[2021-10-05 00:18:25,135] INFO    | 138 >> 140\n",
      "[2021-10-05 00:18:25,365] INFO    | 138 >> 138\n",
      "[2021-10-05 00:18:25,590] INFO    | 138 >> 136\n",
      "[2021-10-05 00:18:25,815] INFO    | 138 >> 134\n",
      "[2021-10-05 00:18:26,037] INFO    | 138 >> 132\n",
      "[2021-10-05 00:18:26,273] INFO    | 138 >> 130\n",
      "[2021-10-05 00:18:26,496] INFO    | 138 >> 128\n",
      "[2021-10-05 00:18:26,727] INFO    | 138 >> 126\n",
      "[2021-10-05 00:18:26,953] INFO    | 138 >> 124\n",
      "[2021-10-05 00:18:27,178] INFO    | 138 >> 122\n",
      "[2021-10-05 00:18:27,411] INFO    | 138 >> 120\n",
      "[2021-10-05 00:18:27,641] INFO    | 138 >> 118\n",
      "[2021-10-05 00:18:27,869] INFO    | 138 >> 116\n",
      "[2021-10-05 00:18:28,097] INFO    | 138 >> 114\n",
      "[2021-10-05 00:18:28,340] INFO    | 138 >> 112\n",
      "[2021-10-05 00:18:28,571] INFO    | 138 >> 110\n",
      "[2021-10-05 00:18:28,804] INFO    | 138 >> 108\n",
      "[2021-10-05 00:18:29,031] INFO    | 138 >> 106\n",
      "[2021-10-05 00:18:29,284] INFO    | 138 >> 104\n",
      "[2021-10-05 00:18:29,522] INFO    | 138 >> 102\n",
      "[2021-10-05 00:18:29,757] INFO    | 138 >> 100\n",
      "[2021-10-05 00:18:29,984] INFO    | 138 >> 98\n",
      "[2021-10-05 00:18:30,213] INFO    | 138 >> 96\n",
      "[2021-10-05 00:18:30,457] INFO    | 138 >> 94\n",
      "[2021-10-05 00:18:30,697] INFO    | 138 >> 92\n",
      "[2021-10-05 00:18:30,939] INFO    | 138 >> 90\n",
      "[2021-10-05 00:18:31,176] INFO    | 138 >> 88\n",
      "[2021-10-05 00:18:31,422] INFO    | 138 >> 86\n",
      "[2021-10-05 00:18:31,658] INFO    | 138 >> 84\n",
      "[2021-10-05 00:18:31,904] INFO    | 138 >> 82\n",
      "[2021-10-05 00:18:32,143] INFO    | 138 >> 80\n",
      "[2021-10-05 00:18:32,394] INFO    | 138 >> 78\n",
      "[2021-10-05 00:18:32,645] INFO    | 138 >> 76\n",
      "[2021-10-05 00:18:32,895] INFO    | 138 >> 74\n",
      "[2021-10-05 00:18:33,136] INFO    | 138 >> 72\n",
      "[2021-10-05 00:18:33,384] INFO    | 138 >> 70\n",
      "[2021-10-05 00:18:33,633] INFO    | 138 >> 68\n",
      "[2021-10-05 00:18:33,899] INFO    | 138 >> 66\n",
      "[2021-10-05 00:18:34,154] INFO    | 138 >> 64\n",
      "[2021-10-05 00:18:34,417] INFO    | 138 >> 62\n",
      "[2021-10-05 00:18:34,662] INFO    | 138 >> 60\n",
      "[2021-10-05 00:18:34,923] INFO    | 138 >> 58\n",
      "[2021-10-05 00:18:35,188] INFO    | 138 >> 56\n",
      "[2021-10-05 00:18:35,445] INFO    | 138 >> 54\n",
      "[2021-10-05 00:18:35,694] INFO    | 138 >> 52\n",
      "[2021-10-05 00:18:35,947] INFO    | 138 >> 50\n",
      "[2021-10-05 00:18:36,240] INFO    | 138 >> 48\n",
      "[2021-10-05 00:18:36,496] INFO    | 138 >> 46\n",
      "[2021-10-05 00:18:36,742] INFO    | 138 >> 44\n",
      "[2021-10-05 00:18:36,988] INFO    | 138 >> 42\n",
      "[2021-10-05 00:18:37,231] INFO    | 138 >> 40\n",
      "[2021-10-05 00:18:37,494] INFO    | 138 >> 38\n",
      "[2021-10-05 00:18:37,746] INFO    | 138 >> 36\n",
      "[2021-10-05 00:18:37,995] INFO    | 138 >> 34\n",
      "[2021-10-05 00:18:38,252] INFO    | 138 >> 32\n",
      "[2021-10-05 00:18:38,520] INFO    | 138 >> 30\n",
      "[2021-10-05 00:18:38,769] INFO    | 138 >> 28\n",
      "[2021-10-05 00:18:39,020] INFO    | 138 >> 26\n",
      "[2021-10-05 00:18:39,278] INFO    | 138 >> 24\n",
      "[2021-10-05 00:18:39,548] INFO    | 138 >> 22\n",
      "[2021-10-05 00:18:39,806] INFO    | 138 >> 20\n",
      "[2021-10-05 00:18:40,059] INFO    | 138 >> 18\n",
      "[2021-10-05 00:18:40,336] INFO    | 138 >> 16\n",
      "[2021-10-05 00:18:40,595] INFO    | 138 >> 14\n",
      "[2021-10-05 00:18:40,865] INFO    | 138 >> 12\n",
      "[2021-10-05 00:18:41,139] INFO    | 138 >> 10\n",
      "[2021-10-05 00:18:41,415] INFO    | 138 >> 8\n",
      "[2021-10-05 00:18:41,670] INFO    | 138 >> 6\n",
      "[2021-10-05 00:18:41,940] INFO    | 138 >> 4\n",
      "[2021-10-05 00:18:42,209] INFO    | 138 >> 2\n",
      "[2021-10-05 00:18:42,506] INFO    | 159 >> Processing scan 0\n",
      "[2021-10-05 00:18:42,512] INFO    | 159 >> Processing scan 1\n",
      "[2021-10-05 00:18:42,519] INFO    | 159 >> Processing scan 2\n",
      "[2021-10-05 00:18:42,528] INFO    | 159 >> Processing scan 3\n",
      "[2021-10-05 00:18:42,536] INFO    | 159 >> Processing scan 4\n",
      "[2021-10-05 00:18:42,545] INFO    | 159 >> Processing scan 5\n",
      "[2021-10-05 00:18:42,554] INFO    | 159 >> Processing scan 6\n",
      "[2021-10-05 00:18:42,563] INFO    | 159 >> Processing scan 7\n",
      "[2021-10-05 00:18:42,573] INFO    | 159 >> Processing scan 8\n",
      "[2021-10-05 00:18:42,582] INFO    | 159 >> Processing scan 9\n",
      "[2021-10-05 00:18:42,591] INFO    | 159 >> Processing scan 10\n",
      "[2021-10-05 00:18:42,600] INFO    | 159 >> Processing scan 11\n",
      "[2021-10-05 00:18:42,611] INFO    | 159 >> Processing scan 12\n",
      "[2021-10-05 00:18:42,623] INFO    | 159 >> Processing scan 13\n",
      "[2021-10-05 00:18:42,633] INFO    | 159 >> Processing scan 14\n",
      "[2021-10-05 00:18:42,644] INFO    | 159 >> Processing scan 15\n",
      "[2021-10-05 00:18:42,657] INFO    | 159 >> Processing scan 16\n",
      "[2021-10-05 00:18:42,667] INFO    | 159 >> Processing scan 17\n",
      "[2021-10-05 00:18:42,677] INFO    | 159 >> Processing scan 18\n",
      "[2021-10-05 00:18:42,686] INFO    | 159 >> Processing scan 19\n",
      "[2021-10-05 00:18:42,693] INFO    | 159 >> Processing scan 20\n",
      "[2021-10-05 00:18:42,700] INFO    | 159 >> Processing scan 21\n",
      "[2021-10-05 00:18:42,707] INFO    | 159 >> Processing scan 22\n",
      "[2021-10-05 00:18:42,713] INFO    | 159 >> Processing scan 23\n",
      "[2021-10-05 00:18:42,720] INFO    | 159 >> Processing scan 24\n",
      "[2021-10-05 00:18:42,728] INFO    | 159 >> Processing scan 25\n",
      "[2021-10-05 00:18:42,736] INFO    | 159 >> Processing scan 26\n",
      "[2021-10-05 00:18:42,742] INFO    | 159 >> Processing scan 27\n",
      "[2021-10-05 00:18:42,747] INFO    | 159 >> Processing scan 28\n",
      "[2021-10-05 00:18:42,755] INFO    | 159 >> Processing scan 29\n",
      "[2021-10-05 00:18:42,764] INFO    | 159 >> Processing scan 30\n",
      "[2021-10-05 00:18:42,773] INFO    | 159 >> Processing scan 31\n",
      "[2021-10-05 00:18:42,780] INFO    | 159 >> Processing scan 32\n",
      "[2021-10-05 00:18:42,787] INFO    | 159 >> Processing scan 33\n",
      "[2021-10-05 00:18:42,794] INFO    | 159 >> Processing scan 34\n",
      "[2021-10-05 00:18:42,802] INFO    | 159 >> Processing scan 35\n",
      "[2021-10-05 00:18:42,812] INFO    | 159 >> Processing scan 36\n",
      "[2021-10-05 00:18:42,820] INFO    | 159 >> Processing scan 37\n",
      "[2021-10-05 00:18:42,829] INFO    | 159 >> Processing scan 38\n",
      "[2021-10-05 00:18:42,836] INFO    | 159 >> Processing scan 39\n",
      "[2021-10-05 00:18:42,845] INFO    | 159 >> Processing scan 40\n",
      "[2021-10-05 00:18:42,857] INFO    | 159 >> Processing scan 41\n",
      "[2021-10-05 00:18:42,866] INFO    | 159 >> Processing scan 42\n",
      "[2021-10-05 00:18:42,876] INFO    | 159 >> Processing scan 43\n",
      "[2021-10-05 00:18:42,885] INFO    | 159 >> Processing scan 44\n",
      "[2021-10-05 00:18:42,892] INFO    | 159 >> Processing scan 45\n",
      "[2021-10-05 00:18:42,902] INFO    | 159 >> Processing scan 46\n",
      "[2021-10-05 00:18:42,915] INFO    | 159 >> Processing scan 47\n",
      "[2021-10-05 00:18:42,924] INFO    | 159 >> Processing scan 48\n",
      "[2021-10-05 00:18:42,931] INFO    | 159 >> Processing scan 49\n",
      "[2021-10-05 00:18:42,938] INFO    | 159 >> Processing scan 50\n",
      "[2021-10-05 00:18:42,944] INFO    | 159 >> Processing scan 51\n",
      "[2021-10-05 00:18:42,950] INFO    | 159 >> Processing scan 52\n",
      "[2021-10-05 00:18:42,958] INFO    | 159 >> Processing scan 53\n",
      "[2021-10-05 00:18:42,967] INFO    | 159 >> Processing scan 54\n",
      "[2021-10-05 00:18:42,974] INFO    | 159 >> Processing scan 55\n",
      "[2021-10-05 00:18:42,982] INFO    | 159 >> Processing scan 56\n",
      "[2021-10-05 00:18:42,995] INFO    | 159 >> Processing scan 57\n",
      "[2021-10-05 00:18:43,006] INFO    | 159 >> Processing scan 58\n",
      "[2021-10-05 00:18:43,013] INFO    | 159 >> Processing scan 59\n",
      "[2021-10-05 00:18:43,020] INFO    | 159 >> Processing scan 60\n",
      "[2021-10-05 00:18:43,028] INFO    | 159 >> Processing scan 61\n",
      "[2021-10-05 00:18:43,041] INFO    | 159 >> Processing scan 62\n",
      "[2021-10-05 00:18:43,052] INFO    | 159 >> Processing scan 63\n",
      "[2021-10-05 00:18:43,060] INFO    | 159 >> Processing scan 64\n"
     ]
    },
    {
     "name": "stderr",
     "output_type": "stream",
     "text": [
      "[2021-10-05 00:18:43,069] INFO    | 159 >> Processing scan 65\n",
      "[2021-10-05 00:18:43,078] INFO    | 159 >> Processing scan 66\n",
      "[2021-10-05 00:18:43,091] INFO    | 159 >> Processing scan 67\n",
      "[2021-10-05 00:18:43,100] INFO    | 159 >> Processing scan 68\n",
      "[2021-10-05 00:18:43,108] INFO    | 159 >> Processing scan 69\n",
      "[2021-10-05 00:18:43,115] INFO    | 159 >> Processing scan 70\n",
      "[2021-10-05 00:18:43,125] INFO    | 159 >> Processing scan 71\n",
      "[2021-10-05 00:18:43,134] INFO    | 159 >> Processing scan 72\n",
      "[2021-10-05 00:18:43,144] INFO    | 159 >> Processing scan 73\n",
      "[2021-10-05 00:18:43,153] INFO    | 159 >> Processing scan 74\n",
      "[2021-10-05 00:18:43,160] INFO    | 159 >> Processing scan 75\n",
      "[2021-10-05 00:18:43,171] INFO    | 159 >> Processing scan 76\n",
      "[2021-10-05 00:18:43,184] INFO    | 159 >> Processing scan 77\n",
      "[2021-10-05 00:18:43,197] INFO    | 159 >> Processing scan 78\n",
      "[2021-10-05 00:18:43,206] INFO    | 159 >> Processing scan 79\n",
      "[2021-10-05 00:18:43,215] INFO    | 159 >> Processing scan 80\n",
      "[2021-10-05 00:18:43,225] INFO    | 159 >> Processing scan 81\n",
      "[2021-10-05 00:18:43,234] INFO    | 159 >> Processing scan 82\n",
      "[2021-10-05 00:18:43,246] INFO    | 159 >> Processing scan 83\n",
      "[2021-10-05 00:18:43,254] INFO    | 159 >> Processing scan 84\n",
      "[2021-10-05 00:18:43,262] INFO    | 159 >> Processing scan 85\n",
      "[2021-10-05 00:18:43,275] INFO    | 159 >> Processing scan 86\n",
      "[2021-10-05 00:18:43,288] INFO    | 159 >> Processing scan 87\n",
      "[2021-10-05 00:18:43,298] INFO    | 159 >> Processing scan 88\n",
      "[2021-10-05 00:18:43,306] INFO    | 159 >> Processing scan 89\n"
     ]
    }
   ],
   "source": [
    "import logging\n",
    "from cool_ct import CTScan\n",
    "\n",
    "logging.basicConfig(format=\"[%(asctime)s] %(levelname)-8s| %(lineno)-3s >> %(message)s\")\n",
    "logging.getLogger('ct').setLevel(logging.INFO)\n",
    "\n",
    "c = CTScan(\n",
    "    image_path=input_file_path, \n",
    "    span=controls['span'].value, \n",
    "    angle_increment=controls['increment'].value, \n",
    "    n=controls['n'].value, \n",
    "    t=True,\n",
    "    dbg_image=False\n",
    ")\n",
    "\n",
    "c.make_sinogram(save=False)\n",
    "c.make_ct(save=False)"
   ]
  },
  {
   "cell_type": "code",
   "execution_count": 13,
   "id": "c6d91b9c",
   "metadata": {
    "scrolled": true
   },
   "outputs": [
    {
     "data": {
      "application/vnd.jupyter.widget-view+json": {
       "model_id": "84491e6bfadf4d0a84aa609ff3a729f0",
       "version_major": 2,
       "version_minor": 0
      },
      "text/plain": [
       "interactive(children=(IntSlider(value=44, description='n', max=89), Output()), _dom_classes=('widget-interact'…"
      ]
     },
     "metadata": {},
     "output_type": "display_data"
    }
   ],
   "source": [
    "from matplotlib import pyplot as plt\n",
    "from ipywidgets import interact\n",
    "\n",
    "@interact(n=(0,89))\n",
    "def show_scan(n):\n",
    "    plt.imshow(c.scan_images[n], cmap='gray', vmin=0, vmax=255)"
   ]
  },
  {
   "cell_type": "code",
   "execution_count": null,
   "id": "0262b307",
   "metadata": {},
   "outputs": [],
   "source": []
  }
 ],
 "metadata": {
  "kernelspec": {
   "display_name": "Python 3 (ipykernel)",
   "language": "python",
   "name": "python3"
  },
  "language_info": {
   "codemirror_mode": {
    "name": "ipython",
    "version": 3
   },
   "file_extension": ".py",
   "mimetype": "text/x-python",
   "name": "python",
   "nbconvert_exporter": "python",
   "pygments_lexer": "ipython3",
   "version": "3.9.7"
  }
 },
 "nbformat": 4,
 "nbformat_minor": 5
}
